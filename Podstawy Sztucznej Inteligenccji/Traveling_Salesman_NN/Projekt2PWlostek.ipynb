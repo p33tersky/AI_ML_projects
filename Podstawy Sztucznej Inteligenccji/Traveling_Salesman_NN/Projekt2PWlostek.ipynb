{
 "cells": [
  {
   "cell_type": "markdown",
   "metadata": {},
   "source": [
    "<h1 style=\"color:aqua; font-size:24px;\">Problem Komiwojażera - projekt nr 2</h1>\n",
    "<h1 style=\"color:yellow; font-size:30px;\">Algorytm NN</h1>\n",
    "<h1 style=\"color:white; font-size:24px;\">Piotr Włostek</h1>\n",
    "<h1 style=\"color:orange; font-size:24px;\">259443</h1>\n"
   ]
  }
 ],
 "metadata": {
  "language_info": {
   "name": "python"
  }
 },
 "nbformat": 4,
 "nbformat_minor": 2
}
